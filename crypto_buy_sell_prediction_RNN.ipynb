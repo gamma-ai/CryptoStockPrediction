{
 "cells": [
  {
   "cell_type": "markdown",
   "metadata": {},
   "source": [
    "midpoint between "
   ]
  },
  {
   "cell_type": "markdown",
   "metadata": {},
   "source": [
    "\n"
   ]
  },
  {
   "cell_type": "code",
   "execution_count": 1,
   "metadata": {
    "ExecuteTime": {
     "end_time": "2018-09-08T22:36:27.183845Z",
     "start_time": "2018-09-08T22:36:10.663085Z"
    }
   },
   "outputs": [
    {
     "name": "stderr",
     "output_type": "stream",
     "text": [
      "Using TensorFlow backend.\n"
     ]
    },
    {
     "name": "stdout",
     "output_type": "stream",
     "text": [
      "IMPORTING BITCOIN HISTORICAL DATA FROM 7/16/2010-9/1/2018\n",
      "BITCOIN data has 2938 input dates with 7 features \n",
      " \n",
      "RESCALING THE DATA\n",
      "RESHAPED ORIGINAL DATA FROM (2938, 1) TRAIN DATA INTO THE  (2878, 60, 1) SHAPE FOR TEST DATA\n"
     ]
    }
   ],
   "source": [
    "import keras\n",
    "import random\n",
    "import tensorflow as tf\n",
    "import numpy as np\n",
    "import sklearn\n",
    "import pandas as pd \n",
    "# Import dataset(s) from trusted source. In this analysis prices given by Yahoo! Finanace will be used for its integrity.\n",
    "\n",
    "print('IMPORTING BITCOIN HISTORICAL DATA FROM 7/16/2010-9/1/2018')\n",
    "btc_train_set= pd.read_csv('BTC-USD_train.csv')\n",
    "\n",
    "print('BITCOIN data has {} input dates with {} features \\n '.format(btc_train_set.shape[0],btc_train_set.shape[1]))\n",
    "# btc.drop(['Date','Open','High','Low','Close','Adj Close'], axis = 1)\n",
    "btc_train = btc_train_set.iloc[:,1:2].values\n",
    "\n",
    "# Feature Scaling/Creating data structure with 60 timesteps and 1 output\n",
    "from sklearn.preprocessing import MinMaxScaler\n",
    "print('RESCALING THE DATA')\n",
    "sc = MinMaxScaler()\n",
    "btc = sc.fit_transform(btc_train)\n",
    "# Create the inputs and the ouputs\n",
    "X_train_btc = []\n",
    "y_train_btc = []\n",
    "for i in range(60,2938):\n",
    "    X_train_btc.append(btc[i-60:i,0])\n",
    "    y_train_btc.append(btc[i,0])\n",
    "X_train_btc,y_train_btc = np.array(X_train_btc),np.array(y_train_btc)   \n",
    "# Getting the inputs and the ouputs\n",
    "# X_train_btc = btc[0:1825]\n",
    "# y_train_btc = btc[1:1826]\n",
    "\n",
    "\n",
    "# Reshaping the data given the new dimensionality to reshape numpy array\n",
    "X_train_btc = np.reshape(X_train_btc, (X_train_btc.shape[0],X_train_btc.shape[1],1))\n",
    "print('RESHAPED ORIGINAL DATA FROM {} TRAIN DATA INTO THE  {} SHAPE FOR TEST DATA'.format(btc_train.shape,X_train_btc.shape))"
   ]
  },
  {
   "cell_type": "code",
   "execution_count": 26,
   "metadata": {
    "ExecuteTime": {
     "end_time": "2018-09-08T21:41:32.052679Z",
     "start_time": "2018-09-08T21:41:32.020765Z"
    }
   },
   "outputs": [
    {
     "name": "stdout",
     "output_type": "stream",
     "text": [
      "IMPORTING BITCOIN CASH HISTORICAL DATA FROM 7/31/2017-9/1/2018\n",
      "BITCOIN CASH data has 381 input dates with 7 features \n",
      " \n",
      "RESCALING THE DATA\n",
      "finished\n"
     ]
    }
   ],
   "source": [
    "print('IMPORTING BITCOIN CASH HISTORICAL DATA FROM 7/31/2017-9/1/2018')\n",
    "bch = pd.read_csv('BCH-USD_train.csv')\n",
    "bch_test = pd.read_csv('BCH-USD_train.csv')\n",
    "print('BITCOIN CASH data has {} input dates with {} features \\n '.format(bch.shape[0],bch.shape[1]))\n",
    "# bch.drop(['Date','Open','High','Low','Close','Adj Close'], axis = 1)\n",
    "# bch = bch.iloc[:,1:2].values\n",
    "\n",
    "# from sklearn.preprocessing import MinMaxScaler\n",
    "# print('RESCALING THE DATA')\n",
    "# sc = MinMaxScaler()\n",
    "# bch = sc.fit_transform(bch)\n",
    "\n",
    "# X_train_bch = bch[0:380]\n",
    "# y_train_bch = bch[1:381]\n",
    "\n",
    "# X_train_bch = np.reshape(X_train_bch, (380, 1, 1))\n",
    "\n",
    "# print('finished')\n",
    "\n",
    "\n",
    "\n"
   ]
  },
  {
   "cell_type": "code",
   "execution_count": 27,
   "metadata": {
    "ExecuteTime": {
     "end_time": "2018-09-08T21:41:32.739147Z",
     "start_time": "2018-09-08T21:41:32.709203Z"
    }
   },
   "outputs": [
    {
     "name": "stdout",
     "output_type": "stream",
     "text": [
      "IMPORTING ETHEREUM HISTORICAL DATA FROM 8/6/2015-9/1/2018\n",
      "ETHEREUM data has 1106 input dates with 7 features \n",
      " \n",
      "RESCALING THE DATA\n",
      "finished\n"
     ]
    }
   ],
   "source": [
    "\n",
    "print('IMPORTING ETHEREUM HISTORICAL DATA FROM 8/6/2015-9/1/2018')\n",
    "eth = pd.read_csv('ETH-USD_train.csv')\n",
    "print('ETHEREUM data has {} input dates with {} features \\n '.format(eth.shape[0],eth.shape[1]))\n",
    "# eth.drop(['Date','Open','High','Low','Close','Adj Close'], axis = 1)\n",
    "# eth = eth.iloc[:,1:2].values\n",
    "\n",
    "# from sklearn.preprocessing import MinMaxScaler\n",
    "# print('RESCALING THE DATA')\n",
    "# sc = MinMaxScaler()\n",
    "# eth = sc.fit_transform(eth)\n",
    "\n",
    "# X_train_eth = eth[0:1105]\n",
    "# y_train_eth = eth[1:1106]\n",
    "\n",
    "# X_train_eth = np.reshape(X_train_eth, (1105, 1, 1))\n",
    "\n",
    "# print('finished')\n"
   ]
  },
  {
   "cell_type": "code",
   "execution_count": 28,
   "metadata": {
    "ExecuteTime": {
     "end_time": "2018-09-08T21:41:33.407198Z",
     "start_time": "2018-09-08T21:41:33.357342Z"
    }
   },
   "outputs": [
    {
     "name": "stdout",
     "output_type": "stream",
     "text": [
      "IMPORTING LITECOIN HISTORICAL DATA FROM 10/23/2013-9/1/2018\n",
      "LITECOIN data has 1758 input dates with 7 features  \n",
      " \n",
      "RESCALING THE DATA\n",
      "finished\n"
     ]
    }
   ],
   "source": [
    "print('IMPORTING LITECOIN HISTORICAL DATA FROM 10/23/2013-9/1/2018')\n",
    "ltc = pd.read_csv('LTC-USD_train.csv')\n",
    "print('LITECOIN data has {} input dates with {} features  \\n '.format(ltc.shape[0],ltc.shape[1]))\n",
    "# # ltc.drop(['Date','Open','High','Low','Close','Adj Close'], axis = 1)\n",
    "# ltc = ltc.iloc[:,1:2].values\n",
    "\n",
    "# from sklearn.preprocessing import MinMaxScaler\n",
    "# print('RESCALING THE DATA')\n",
    "# sc = MinMaxScaler()\n",
    "# ltc = sc.fit_transform(ltc)\n",
    "\n",
    "# X_train_ltc = ltc[0:1157]\n",
    "# y_train_ltc = ltc[1:1158]\n",
    "\n",
    "# X_train_ltc = np.reshape(X_train_ltc, (1157, 1, 1))\n",
    "# print('finished')"
   ]
  },
  {
   "cell_type": "code",
   "execution_count": 29,
   "metadata": {
    "ExecuteTime": {
     "end_time": "2018-09-08T21:41:34.178337Z",
     "start_time": "2018-09-08T21:41:34.149383Z"
    }
   },
   "outputs": [
    {
     "name": "stdout",
     "output_type": "stream",
     "text": [
      "IMPORTING RIPPLE HISTORICAL DATA FROM 1/20/2015-9/1/2018\n",
      "RIPPLE data has 1304 input dates with 7 features  \n",
      " \n",
      "RESCALING THE DATA\n",
      "finished\n"
     ]
    }
   ],
   "source": [
    "print('IMPORTING RIPPLE HISTORICAL DATA FROM 1/20/2015-9/1/2018')\n",
    "xrp = pd.read_csv('XRP-USD_train.csv')\n",
    "print('RIPPLE data has {} input dates with {} features  \\n '.format(xrp.shape[0],xrp.shape[1]))\n",
    "# xrp.drop(['Date','Open','High','Low','Close','Adj Close'], axis = 1)\n",
    "# xrp = xrp.iloc[:,1:2].values\n",
    "\n",
    "# from sklearn.preprocessing import MinMaxScaler\n",
    "# print('RESCALING THE DATA')\n",
    "# sc = MinMaxScaler()\n",
    "# xrp = sc.fit_transform(xrp)\n",
    "\n",
    "# X_train_xrp = xrp[0:1303]\n",
    "# y_train_xrp= xrp[1:1304]\n",
    "\n",
    "# X_train_xrp = np.reshape(X_train_xrp, (1303, 1, 1))\n",
    "# print('finished')\n"
   ]
  },
  {
   "cell_type": "code",
   "execution_count": 2,
   "metadata": {
    "ExecuteTime": {
     "end_time": "2018-09-08T22:37:39.550133Z",
     "start_time": "2018-09-08T22:37:38.870022Z"
    }
   },
   "outputs": [
    {
     "name": "stdout",
     "output_type": "stream",
     "text": [
      "_________________________________________________________________\n",
      "Layer (type)                 Output Shape              Param #   \n",
      "=================================================================\n",
      "lstm_1 (LSTM)                (None, 60, 72)            21312     \n",
      "_________________________________________________________________\n",
      "dropout_1 (Dropout)          (None, 60, 72)            0         \n",
      "_________________________________________________________________\n",
      "lstm_2 (LSTM)                (None, 60, 72)            41760     \n",
      "_________________________________________________________________\n",
      "dropout_2 (Dropout)          (None, 60, 72)            0         \n",
      "_________________________________________________________________\n",
      "lstm_3 (LSTM)                (None, 60, 72)            41760     \n",
      "_________________________________________________________________\n",
      "dropout_3 (Dropout)          (None, 60, 72)            0         \n",
      "_________________________________________________________________\n",
      "lstm_4 (LSTM)                (None, 72)                41760     \n",
      "_________________________________________________________________\n",
      "dropout_4 (Dropout)          (None, 72)                0         \n",
      "_________________________________________________________________\n",
      "dense_1 (Dense)              (None, 1)                 73        \n",
      "=================================================================\n",
      "Total params: 146,665\n",
      "Trainable params: 146,665\n",
      "Non-trainable params: 0\n",
      "_________________________________________________________________\n"
     ]
    }
   ],
   "source": [
    "\n",
    "# Part 2 - Building the RNN\n",
    "# Importing the Keras libraries and packages necessary for making the stacked Lstm with dropout regularization \n",
    "# to help prevent overfitting\n",
    "from keras.models import Sequential\n",
    "from keras.layers import Dense,Dropout\n",
    "from keras.layers import LSTM\n",
    "\n",
    "# Initialising the RNN\n",
    "#Regression is used for its continuous outputs instead of categorical \n",
    "regressor = Sequential()\n",
    "\n",
    "# Adding the input layer and the LSTM layers\n",
    "# units = number of LSTM cells\n",
    "#Keep units high to gather more dimensions in that data, return_sequences=True for stacked RNN\n",
    "#input shape = timesteps, indicators \n",
    "#No sigmoid/relu/etc... activation function\n",
    "regressor.add(LSTM(units = 72, input_shape = (X_train_btc.shape[1],1),return_sequences=True))\n",
    "regressor.add(Dropout(.2))\n",
    "\n",
    "regressor.add(LSTM(units= 72,return_sequences=True))\n",
    "regressor.add(Dropout(.2))\n",
    "\n",
    "regressor.add(LSTM(units=72,return_sequences=True))\n",
    "regressor.add(Dropout(.2))\n",
    "\n",
    "# remove return_sequences..No more sequences being returned\n",
    "regressor.add(LSTM(units=72))\n",
    "regressor.add(Dropout(.2))\n",
    "\n",
    "# regressor.add(Dense(1,activation = 'softmax')) Not classification, i.e. no softmax\n",
    "# Adding the output layer (t+1)\n",
    "regressor.add(Dense(units = 1))\n",
    "\n",
    "regressor.summary()"
   ]
  },
  {
   "cell_type": "code",
   "execution_count": 3,
   "metadata": {
    "ExecuteTime": {
     "end_time": "2018-09-08T22:51:13.354587Z",
     "start_time": "2018-09-08T22:37:43.045993Z"
    }
   },
   "outputs": [
    {
     "name": "stdout",
     "output_type": "stream",
     "text": [
      "Compiling the RNN\n",
      "Fitting the RNN to the Training set\n",
      "Training The Data\n",
      "Epoch 1/110\n",
      "2878/2878 [==============================] - 10s 3ms/step - loss: 0.0027\n",
      "Epoch 2/110\n",
      "2878/2878 [==============================] - 7s 2ms/step - loss: 0.0013\n",
      "Epoch 3/110\n",
      "2878/2878 [==============================] - 7s 2ms/step - loss: 0.0011\n",
      "Epoch 4/110\n",
      "2878/2878 [==============================] - 7s 2ms/step - loss: 0.0013\n",
      "Epoch 5/110\n",
      "2878/2878 [==============================] - 7s 2ms/step - loss: 8.6932e-04\n",
      "Epoch 6/110\n",
      "2878/2878 [==============================] - 7s 2ms/step - loss: 0.0011\n",
      "Epoch 7/110\n",
      "2878/2878 [==============================] - 7s 2ms/step - loss: 0.0012\n",
      "Epoch 8/110\n",
      "2878/2878 [==============================] - 7s 2ms/step - loss: 8.6055e-04\n",
      "Epoch 9/110\n",
      "2878/2878 [==============================] - 6s 2ms/step - loss: 7.3347e-04\n",
      "Epoch 10/110\n",
      "2878/2878 [==============================] - 6s 2ms/step - loss: 7.5193e-04\n",
      "Epoch 11/110\n",
      "2878/2878 [==============================] - 6s 2ms/step - loss: 7.7063e-04\n",
      "Epoch 12/110\n",
      "2878/2878 [==============================] - 6s 2ms/step - loss: 5.9482e-04\n",
      "Epoch 13/110\n",
      "2878/2878 [==============================] - 6s 2ms/step - loss: 6.6686e-04\n",
      "Epoch 14/110\n",
      "2878/2878 [==============================] - 6s 2ms/step - loss: 5.2214e-04\n",
      "Epoch 15/110\n",
      "2878/2878 [==============================] - 7s 2ms/step - loss: 5.3923e-04\n",
      "Epoch 16/110\n",
      "2878/2878 [==============================] - 7s 2ms/step - loss: 6.4516e-04\n",
      "Epoch 17/110\n",
      "2878/2878 [==============================] - 7s 2ms/step - loss: 5.1954e-04\n",
      "Epoch 18/110\n",
      "2878/2878 [==============================] - 7s 2ms/step - loss: 6.1246e-04\n",
      "Epoch 19/110\n",
      "2878/2878 [==============================] - 6s 2ms/step - loss: 5.7002e-04\n",
      "Epoch 20/110\n",
      "2878/2878 [==============================] - 7s 3ms/step - loss: 6.0101e-04\n",
      "Epoch 21/110\n",
      "2878/2878 [==============================] - 8s 3ms/step - loss: 5.6530e-04\n",
      "Epoch 22/110\n",
      "2878/2878 [==============================] - 7s 2ms/step - loss: 5.2897e-04\n",
      "Epoch 23/110\n",
      "2878/2878 [==============================] - 7s 2ms/step - loss: 6.1351e-04\n",
      "Epoch 24/110\n",
      "2878/2878 [==============================] - 8s 3ms/step - loss: 5.3240e-04\n",
      "Epoch 25/110\n",
      "2878/2878 [==============================] - 8s 3ms/step - loss: 5.9992e-04\n",
      "Epoch 26/110\n",
      "2878/2878 [==============================] - 8s 3ms/step - loss: 5.7860e-04\n",
      "Epoch 27/110\n",
      "2878/2878 [==============================] - 7s 2ms/step - loss: 5.2166e-04\n",
      "Epoch 28/110\n",
      "2878/2878 [==============================] - 7s 2ms/step - loss: 4.9634e-04\n",
      "Epoch 29/110\n",
      "2878/2878 [==============================] - 7s 2ms/step - loss: 5.5130e-04\n",
      "Epoch 30/110\n",
      "2878/2878 [==============================] - 7s 2ms/step - loss: 4.4766e-04\n",
      "Epoch 31/110\n",
      "2878/2878 [==============================] - 7s 2ms/step - loss: 4.3331e-04\n",
      "Epoch 32/110\n",
      "2878/2878 [==============================] - 7s 3ms/step - loss: 4.4777e-04\n",
      "Epoch 33/110\n",
      "2878/2878 [==============================] - 7s 2ms/step - loss: 5.4434e-04\n",
      "Epoch 34/110\n",
      "2878/2878 [==============================] - 7s 3ms/step - loss: 4.4384e-04\n",
      "Epoch 35/110\n",
      "2878/2878 [==============================] - 8s 3ms/step - loss: 5.0688e-04\n",
      "Epoch 36/110\n",
      "2878/2878 [==============================] - 8s 3ms/step - loss: 6.2600e-04\n",
      "Epoch 37/110\n",
      "2878/2878 [==============================] - 7s 3ms/step - loss: 5.5954e-04\n",
      "Epoch 38/110\n",
      "2878/2878 [==============================] - 9s 3ms/step - loss: 4.6474e-04\n",
      "Epoch 39/110\n",
      "2878/2878 [==============================] - 7s 2ms/step - loss: 4.2394e-04\n",
      "Epoch 40/110\n",
      "2878/2878 [==============================] - 7s 2ms/step - loss: 4.8916e-04\n",
      "Epoch 41/110\n",
      "2878/2878 [==============================] - 7s 2ms/step - loss: 3.7787e-04\n",
      "Epoch 42/110\n",
      "2878/2878 [==============================] - 7s 2ms/step - loss: 3.6364e-04\n",
      "Epoch 43/110\n",
      "2878/2878 [==============================] - 7s 2ms/step - loss: 3.4959e-04\n",
      "Epoch 44/110\n",
      "2878/2878 [==============================] - 7s 2ms/step - loss: 4.6458e-04\n",
      "Epoch 45/110\n",
      "2878/2878 [==============================] - 8s 3ms/step - loss: 4.0987e-04\n",
      "Epoch 46/110\n",
      "2878/2878 [==============================] - 7s 2ms/step - loss: 3.5640e-04\n",
      "Epoch 47/110\n",
      "2878/2878 [==============================] - 7s 2ms/step - loss: 4.1047e-04\n",
      "Epoch 48/110\n",
      "2878/2878 [==============================] - 7s 2ms/step - loss: 3.7466e-04\n",
      "Epoch 49/110\n",
      "2878/2878 [==============================] - 7s 2ms/step - loss: 4.9451e-04\n",
      "Epoch 50/110\n",
      "2878/2878 [==============================] - 7s 2ms/step - loss: 4.0525e-04\n",
      "Epoch 51/110\n",
      "2878/2878 [==============================] - 8s 3ms/step - loss: 4.3469e-04\n",
      "Epoch 52/110\n",
      "2878/2878 [==============================] - 7s 3ms/step - loss: 4.2688e-04\n",
      "Epoch 53/110\n",
      "2878/2878 [==============================] - 8s 3ms/step - loss: 4.4491e-04\n",
      "Epoch 54/110\n",
      "2878/2878 [==============================] - 9s 3ms/step - loss: 4.2597e-04\n",
      "Epoch 55/110\n",
      "2878/2878 [==============================] - 9s 3ms/step - loss: 4.2637e-04\n",
      "Epoch 56/110\n",
      "2878/2878 [==============================] - 7s 3ms/step - loss: 4.3537e-04\n",
      "Epoch 57/110\n",
      "2878/2878 [==============================] - 7s 2ms/step - loss: 3.1986e-04\n",
      "Epoch 58/110\n",
      "2878/2878 [==============================] - 9s 3ms/step - loss: 4.3474e-04\n",
      "Epoch 59/110\n",
      "2878/2878 [==============================] - 7s 2ms/step - loss: 4.7994e-04\n",
      "Epoch 60/110\n",
      "2878/2878 [==============================] - 8s 3ms/step - loss: 4.3799e-04\n",
      "Epoch 61/110\n",
      "2878/2878 [==============================] - 8s 3ms/step - loss: 4.5650e-04\n",
      "Epoch 62/110\n",
      "2878/2878 [==============================] - 8s 3ms/step - loss: 3.8391e-04\n",
      "Epoch 63/110\n",
      "2878/2878 [==============================] - 7s 3ms/step - loss: 4.0856e-04\n",
      "Epoch 64/110\n",
      "2878/2878 [==============================] - 7s 2ms/step - loss: 3.6199e-04\n",
      "Epoch 65/110\n",
      "2878/2878 [==============================] - 8s 3ms/step - loss: 4.0252e-04\n",
      "Epoch 66/110\n",
      "2878/2878 [==============================] - 7s 2ms/step - loss: 3.7148e-04\n",
      "Epoch 67/110\n",
      "2878/2878 [==============================] - 7s 3ms/step - loss: 3.3834e-04\n",
      "Epoch 68/110\n",
      "2878/2878 [==============================] - 7s 2ms/step - loss: 3.9731e-04\n",
      "Epoch 69/110\n",
      "2878/2878 [==============================] - 8s 3ms/step - loss: 3.9468e-04\n",
      "Epoch 70/110\n",
      "2878/2878 [==============================] - 7s 3ms/step - loss: 4.7106e-04\n",
      "Epoch 71/110\n",
      "2878/2878 [==============================] - 7s 2ms/step - loss: 3.3354e-04\n",
      "Epoch 72/110\n",
      "2878/2878 [==============================] - 7s 2ms/step - loss: 3.1915e-04\n",
      "Epoch 73/110\n",
      "2878/2878 [==============================] - 7s 2ms/step - loss: 4.3924e-04\n",
      "Epoch 74/110\n",
      "2878/2878 [==============================] - 8s 3ms/step - loss: 3.9168e-04\n",
      "Epoch 75/110\n",
      "2878/2878 [==============================] - 9s 3ms/step - loss: 3.2207e-04\n",
      "Epoch 76/110\n",
      "2878/2878 [==============================] - 7s 3ms/step - loss: 4.2230e-04\n",
      "Epoch 77/110\n",
      "2878/2878 [==============================] - 7s 2ms/step - loss: 4.2413e-04\n",
      "Epoch 78/110\n",
      "2878/2878 [==============================] - 8s 3ms/step - loss: 4.3049e-04\n",
      "Epoch 79/110\n",
      "2878/2878 [==============================] - 8s 3ms/step - loss: 3.2642e-04\n",
      "Epoch 80/110\n",
      "2878/2878 [==============================] - 7s 3ms/step - loss: 3.3095e-04\n",
      "Epoch 81/110\n",
      "2878/2878 [==============================] - 8s 3ms/step - loss: 3.4536e-04\n",
      "Epoch 82/110\n",
      "2878/2878 [==============================] - 7s 3ms/step - loss: 3.3290e-04\n",
      "Epoch 83/110\n",
      "2878/2878 [==============================] - 7s 3ms/step - loss: 5.0901e-04\n",
      "Epoch 84/110\n",
      "2878/2878 [==============================] - 7s 2ms/step - loss: 3.4457e-04\n",
      "Epoch 85/110\n",
      "2878/2878 [==============================] - 7s 2ms/step - loss: 3.1761e-04\n",
      "Epoch 86/110\n",
      "2878/2878 [==============================] - 6s 2ms/step - loss: 3.7083e-04\n",
      "Epoch 87/110\n",
      "2878/2878 [==============================] - 8s 3ms/step - loss: 3.3016e-04\n",
      "Epoch 88/110\n",
      "2878/2878 [==============================] - 7s 2ms/step - loss: 3.5137e-04\n",
      "Epoch 89/110\n",
      "2878/2878 [==============================] - 9s 3ms/step - loss: 4.3005e-04\n",
      "Epoch 90/110\n",
      "2878/2878 [==============================] - 8s 3ms/step - loss: 3.8250e-04\n",
      "Epoch 91/110\n",
      "2878/2878 [==============================] - 8s 3ms/step - loss: 3.2991e-04\n",
      "Epoch 92/110\n",
      "2878/2878 [==============================] - 8s 3ms/step - loss: 3.6634e-04\n",
      "Epoch 93/110\n",
      "2878/2878 [==============================] - 9s 3ms/step - loss: 2.6510e-04A: \n",
      "Epoch 94/110\n",
      "2878/2878 [==============================] - 8s 3ms/step - loss: 3.0848e-04\n",
      "Epoch 95/110\n",
      "2878/2878 [==============================] - 10s 3ms/step - loss: 3.3725e-04\n",
      "Epoch 96/110\n",
      "2878/2878 [==============================] - 7s 2ms/step - loss: 3.7034e-04\n",
      "Epoch 97/110\n",
      "2878/2878 [==============================] - 7s 2ms/step - loss: 3.3457e-04\n",
      "Epoch 98/110\n",
      "2878/2878 [==============================] - 7s 2ms/step - loss: 3.4854e-04\n",
      "Epoch 99/110\n",
      "2878/2878 [==============================] - 9s 3ms/step - loss: 3.9693e-04\n",
      "Epoch 100/110\n",
      "2878/2878 [==============================] - 8s 3ms/step - loss: 3.0435e-04\n",
      "Epoch 101/110\n",
      "2878/2878 [==============================] - 8s 3ms/step - loss: 3.4522e-04\n",
      "Epoch 102/110\n",
      "2878/2878 [==============================] - 7s 2ms/step - loss: 3.6335e-04\n",
      "Epoch 103/110\n",
      "2878/2878 [==============================] - 6s 2ms/step - loss: 3.8010e-04\n",
      "Epoch 104/110\n",
      "2878/2878 [==============================] - 6s 2ms/step - loss: 3.8633e-04\n",
      "Epoch 105/110\n",
      "2878/2878 [==============================] - 6s 2ms/step - loss: 3.6880e-04\n",
      "Epoch 106/110\n",
      "2878/2878 [==============================] - 7s 3ms/step - loss: 2.8211e-04\n",
      "Epoch 107/110\n",
      "2878/2878 [==============================] - 7s 2ms/step - loss: 3.1140e-04\n",
      "Epoch 108/110\n",
      "2878/2878 [==============================] - 7s 2ms/step - loss: 3.2692e-04\n",
      "Epoch 109/110\n",
      "2878/2878 [==============================] - 7s 2ms/step - loss: 3.5703e-04\n",
      "Epoch 110/110\n",
      "2878/2878 [==============================] - 7s 2ms/step - loss: 2.3679e-04\n"
     ]
    },
    {
     "data": {
      "text/plain": [
       "<keras.callbacks.History at 0x1d1fd628eb8>"
      ]
     },
     "execution_count": 3,
     "metadata": {},
     "output_type": "execute_result"
    }
   ],
   "source": [
    "print('Compiling the RNN')\n",
    "#Adam performs relevant updates for the weights making it easy for the models optimization\n",
    "#loss is mean squared error for its continuity (ERROR IS MEAN BETWEEN OF SQUARED DIFFERENCES BETWEEN TARGETS AND ACTUAL VALUES)\n",
    "regressor.compile(optimizer = 'adam', loss = 'mean_squared_error')\n",
    "\n",
    "print('Fitting the RNN to the Training set')\n",
    "print('Training The Data')\n",
    "\n",
    "regressor.fit(X_train_btc, y_train_btc, batch_size = 48, epochs = 110)\n"
   ]
  },
  {
   "cell_type": "markdown",
   "metadata": {},
   "source": [
    "## LOSS IS MODERATELY LOW FOR THE TRAINING DATA SO THIS GIVES A POSSIBLITY OF THE TESTING DATA GATHERING ACCURATE RESULTS WHILE NOT SHOWING OVERFITTING OR UNDERFITTING"
   ]
  },
  {
   "cell_type": "code",
   "execution_count": 4,
   "metadata": {
    "ExecuteTime": {
     "end_time": "2018-09-08T22:53:25.654064Z",
     "start_time": "2018-09-08T22:53:25.494360Z"
    }
   },
   "outputs": [],
   "source": [
    "#GENERATING/VISUALIZING PREDICTIONS\n",
    "#GETTING THE REAL STOCK PRICE OF BITCOIN Aug8,2018-9/82018\n",
    "import matplotlib.pyplot as plt\n",
    "btc_test_set = pd.read_csv('BTC-USD_test.csv')\n",
    "\n",
    "real_stock_price = btc_test_set.iloc[:,1:2].values\n",
    "dataset_total = pd.concat((btc_train_set['Open'],btc_test_set['Open']),axis=0)\n",
    "\n",
    "# Getting the predicted stock price of Aug8,2018-9/82018\n",
    "inputs = dataset_total[len(dataset_total)- len(btc_test_set) -60:].values\n",
    "inputs = np.reshape(inputs, (-1,1))\n",
    "inputs = sc.transform(inputs)"
   ]
  },
  {
   "cell_type": "code",
   "execution_count": 5,
   "metadata": {
    "ExecuteTime": {
     "end_time": "2018-09-08T22:53:27.212384Z",
     "start_time": "2018-09-08T22:53:26.853995Z"
    }
   },
   "outputs": [],
   "source": [
    "X_test_btc = []\n",
    "for i in range(60,80):\n",
    "    X_test_btc.append(inputs[i-60:i, 0])\n",
    "X_test_btc = np.array(X_test_btc)\n",
    "X_test_btc = np.reshape(X_test_btc,(X_test_btc.shape[0],X_train_btc.shape[1],1))\n",
    "predicted_stock_price = regressor.predict(X_test_btc)\n",
    "predicted_stock_price = sc.inverse_transform(predicted_stock_price)"
   ]
  },
  {
   "cell_type": "code",
   "execution_count": 8,
   "metadata": {
    "ExecuteTime": {
     "end_time": "2018-09-09T06:33:42.511382Z",
     "start_time": "2018-09-09T06:33:42.349786Z"
    }
   },
   "outputs": [
    {
     "name": "stdout",
     "output_type": "stream",
     "text": [
      "\t real stock price 2017 \n",
      " [[7736.25    ]\n",
      " [7610.899902]\n",
      " [7542.339844]\n",
      " [7417.600098]\n",
      " [7017.890137]\n",
      " [7042.569824]\n",
      " [6945.77002 ]\n",
      " [6723.290039]\n",
      " [6285.060059]\n",
      " [6543.25    ]\n",
      " [6152.950195]\n",
      " [6091.140137]\n",
      " [6322.410156]\n",
      " [6263.200195]\n",
      " [6199.629883]\n",
      " [6274.220215]\n",
      " [6323.810059]\n",
      " [6591.180176]\n",
      " [6405.740234]\n",
      " [6502.240234]\n",
      " [6270.089844]\n",
      " [6491.089844]\n",
      " [6366.140137]\n",
      " [6539.129883]\n",
      " [6708.939941]\n",
      " [6749.709961]\n",
      " [6720.600098]\n",
      " [6915.919922]\n",
      " [7091.379883]\n",
      " [7051.609863]\n",
      " [6998.759766]\n",
      " [7026.959961]\n",
      " [7203.459961]\n",
      " [7301.25    ]\n",
      " [7270.049805]\n",
      " [7369.890137]\n",
      " [6705.029785]]\n",
      "\n",
      " predicted stock price 2017 [[7697.6553]\n",
      " [7566.4624]\n",
      " [7447.8853]\n",
      " [7353.0054]\n",
      " [7239.4863]\n",
      " [6968.4053]\n",
      " [6840.714 ]\n",
      " [6743.143 ]\n",
      " [6580.169 ]\n",
      " [6270.234 ]\n",
      " [6236.625 ]\n",
      " [6053.734 ]\n",
      " [5913.3555]\n",
      " [5969.6553]\n",
      " [5991.8477]\n",
      " [5966.0205]\n",
      " [5990.209 ]\n",
      " [6038.1904]\n",
      " [6207.2   ]\n",
      " [6207.3447]]\n"
     ]
    },
    {
     "data": {
      "image/png": "[encoded data removed]",
      "text/plain": [
       "<Figure size 432x288 with 1 Axes>"
      ]
     },
     "metadata": {},
     "output_type": "display_data"
    }
   ],
   "source": [
    "print('\\t real stock price 2017 \\n', real_stock_price)\n",
    "# Visualising the results\n",
    "plt.plot(real_stock_price, color = 'red', label = 'Real Bitcoin Stock Price')\n",
    "print('\\n predicted stock price 2017',predicted_stock_price)\n",
    "plt.plot(predicted_stock_price, color = 'blue', label = 'Predicted Bitcoin Stock Price')\n",
    "plt.title('BITCOIN Stock Price Prediction')\n",
    "plt.xlabel('Time')\n",
    "plt.ylabel('BITCOIN Stock Price')\n",
    "plt.legend()\n",
    "plt.show()"
   ]
  },
  {
   "cell_type": "markdown",
   "metadata": {},
   "source": [
    "SINCE THE DATA IS HIGHLY NON-LINEAR AND FAST CHANGING, IT IS OKAY IF THE PREDICTIONS ARE SOMEWHAT LACKING BEHIND THE REAL PREDICTIONS. IF CHANGES ARE SMOOTH, THIS MEANS THAT THE MODEL CAPTURED THE UPWARD AND DOWNWARD AND STABLE TRENDS IN THE DATA"
   ]
  },
  {
   "cell_type": "code",
   "execution_count": 7,
   "metadata": {
    "ExecuteTime": {
     "end_time": "2018-09-08T22:53:36.723803Z",
     "start_time": "2018-09-08T22:53:36.701834Z"
    }
   },
   "outputs": [
    {
     "data": {
      "text/plain": [
       "243.69510168245628"
      ]
     },
     "execution_count": 7,
     "metadata": {},
     "output_type": "execute_result"
    }
   ],
   "source": [
    "import math\n",
    "from sklearn.metrics import mean_squared_error\n",
    "\n",
    "rmse = math.sqrt(mean_squared_error(real_stock_price[:20], predicted_stock_price))\n",
    "rmse"
   ]
  },
  {
   "cell_type": "code",
   "execution_count": null,
   "metadata": {},
   "outputs": [],
   "source": []
  }
 ],
 "metadata": {
  "kernelspec": {
   "display_name": "Python 3",
   "language": "python",
   "name": "python3"
  },
  "language_info": {
   "codemirror_mode": {
    "name": "ipython",
    "version": 3
   },
   "file_extension": ".py",
   "mimetype": "text/x-python",
   "name": "python",
   "nbconvert_exporter": "python",
   "pygments_lexer": "ipython3",
   "version": "3.6.5"
  },
  "latex_envs": {
   "LaTeX_envs_menu_present": true,
   "autoclose": false,
   "autocomplete": true,
   "bibliofile": "biblio.bib",
   "cite_by": "apalike",
   "current_citInitial": 1,
   "eqLabelWithNumbers": true,
   "eqNumInitial": 1,
   "hotkeys": {
    "equation": "Ctrl-E",
    "itemize": "Ctrl-I"
   },
   "labels_anchors": false,
   "latex_user_defs": false,
   "report_style_numbering": true,
   "user_envs_cfg": false
  }
 },
 "nbformat": 4,
 "nbformat_minor": 2
}
